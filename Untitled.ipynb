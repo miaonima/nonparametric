{
 "cells": [
  {
   "cell_type": "code",
   "execution_count": 1,
   "metadata": {},
   "outputs": [],
   "source": [
    "import numpy as np\n",
    "import pandas as pd\n",
    "import itertools\n",
    "import matplotlib.pyplot as plt\n",
    "import plotly.graph_objects as go"
   ]
  },
  {
   "cell_type": "code",
   "execution_count": 2,
   "metadata": {},
   "outputs": [],
   "source": [
    "import cplex as cpx"
   ]
  },
  {
   "cell_type": "code",
   "execution_count": 3,
   "metadata": {},
   "outputs": [],
   "source": [
    "df = pd.read_csv(\"Advertising1.csv\").drop(columns=[\"Unnamed: 0\", \"Newspaper\"]).drop([5, 130])"
   ]
  },
  {
   "cell_type": "code",
   "execution_count": 4,
   "metadata": {},
   "outputs": [],
   "source": [
    "X = df[[\"TV\", \"Radio\"]].to_numpy()\n",
    "y = df[\"Sales\"].to_numpy()"
   ]
  },
  {
   "cell_type": "code",
   "execution_count": 5,
   "metadata": {},
   "outputs": [],
   "source": [
    "def mse(y1, y2):\n",
    "    return ((y1 - y2) ** 2).mean()"
   ]
  },
  {
   "cell_type": "code",
   "execution_count": 6,
   "metadata": {},
   "outputs": [],
   "source": [
    "from pyomo.environ import *"
   ]
  },
  {
   "cell_type": "code",
   "execution_count": 7,
   "metadata": {},
   "outputs": [],
   "source": [
    "class NPCvxReg():\n",
    "    def __init__(self, convex=True, reg=0.0):\n",
    "        self.convex = convex\n",
    "        self.reg = reg\n",
    "    \n",
    "    # Build pyomo model\n",
    "    def build_model(self, X, y):\n",
    "        n, d = X.shape\n",
    "        n_range = list(range(n))\n",
    "        d_range = list(range(d))\n",
    "        \n",
    "        model = ConcreteModel()\n",
    "\n",
    "        model.theta = Var(n_range, within=Reals)\n",
    "        model.xi = Var(n_range, d_range, within=Reals)\n",
    "\n",
    "        model.obj = Objective(\n",
    "            expr=sum( (y[i]-model.theta[i])*(y[i]-model.theta[i]) for i in n_range)\n",
    "            + n*self.reg*sum(model.xi[i, k] * model.xi[i, k] for i in n_range for k in d_range),\n",
    "            sense=minimize\n",
    "        )\n",
    "        model.cons = ConstraintList()\n",
    "\n",
    "        for i in n_range:\n",
    "            for j in n_range:\n",
    "                if i != j:\n",
    "                    X_diff = X[j] - X[i]\n",
    "                    model.cons.add(expr=\n",
    "                        model.theta[i] + sum(model.xi[i, k] * X_diff[k] for k in d_range) <= model.theta[j]\n",
    "                    )\n",
    "        return model\n",
    "    \n",
    "    def fit(self, X, y):\n",
    "        if not self.convex:\n",
    "            y = -y\n",
    "            \n",
    "        n, d = X.shape\n",
    "        model = self.build_model(X, y)\n",
    "        \n",
    "        opt = SolverFactory(\"cplex\")\n",
    "        opt.solve(model)\n",
    "        \n",
    "        self.theta_opt = np.array(model.theta[:]()).reshape(n)\n",
    "        self.xi_opt = np.array(model.xi[:, :]()).reshape((n, d))\n",
    "        self.X = X.copy()\n",
    "        \n",
    "        assert(not np.isnan(self.theta_opt).any())\n",
    "        assert(not np.isnan(self.xi_opt).any())\n",
    "        \n",
    "        if not self.convex:\n",
    "            self.theta_opt = -self.theta_opt\n",
    "            self.xi_opt = -self.xi_opt\n",
    "        \n",
    "        return self\n",
    "    \n",
    "    def predict_one(self, x):\n",
    "        assert(x.ndim == 1)\n",
    "        pred = self.theta_opt + ((x - self.X) * self.xi_opt).sum(axis = 1)\n",
    "        \n",
    "        op = np.max if self.convex else np.min\n",
    "        return op(pred)\n",
    "    \n",
    "    def predict(self, X):\n",
    "        pred = [self.predict_one(x) for x in X]\n",
    "        return np.array(pred)"
   ]
  },
  {
   "cell_type": "code",
   "execution_count": 8,
   "metadata": {},
   "outputs": [],
   "source": [
    "from sklearn import model_selection"
   ]
  },
  {
   "cell_type": "code",
   "execution_count": 9,
   "metadata": {},
   "outputs": [],
   "source": [
    "kfold = model_selection.KFold(2, shuffle=True, random_state=41239465)\n",
    "t, v = kfold.split(X, y).__next__()\n",
    "reg = NPCvxReg(convex = False, reg=0.01).fit(X[t], y[t])\n",
    "\n",
    "y_t_hat = reg.predict(X[t])\n",
    "y_v_hat = reg.predict(X[v])"
   ]
  },
  {
   "cell_type": "code",
   "execution_count": 10,
   "metadata": {},
   "outputs": [
    {
     "name": "stdout",
     "output_type": "stream",
     "text": [
      "0.29265689438831277 0.33705008063746594\n"
     ]
    }
   ],
   "source": [
    "t_mse = mse(y[t], y_t_hat)\n",
    "v_mse = mse(y[v], y_v_hat)\n",
    "print(t_mse, v_mse)"
   ]
  },
  {
   "cell_type": "code",
   "execution_count": null,
   "metadata": {},
   "outputs": [],
   "source": []
  },
  {
   "cell_type": "code",
   "execution_count": 11,
   "metadata": {},
   "outputs": [],
   "source": [
    "x1_min, x2_min = X.min(axis=0)\n",
    "x1_max, x2_max = X.max(axis=0)"
   ]
  },
  {
   "cell_type": "code",
   "execution_count": 12,
   "metadata": {},
   "outputs": [],
   "source": [
    "x1 = np.linspace(x1_min, x1_max, 100)\n",
    "x2 = np.linspace(x2_min, x2_max, 100)\n",
    "X1, X2 = np.meshgrid(x1, x2)"
   ]
  },
  {
   "cell_type": "code",
   "execution_count": 13,
   "metadata": {},
   "outputs": [],
   "source": [
    "@np.vectorize\n",
    "def predict(x1, x2):\n",
    "    x = np.array((x1, x2))\n",
    "    return reg.predict_one(x)"
   ]
  },
  {
   "cell_type": "code",
   "execution_count": 14,
   "metadata": {},
   "outputs": [],
   "source": [
    "Y = predict(X1, X2)"
   ]
  },
  {
   "cell_type": "code",
   "execution_count": 15,
   "metadata": {},
   "outputs": [],
   "source": [
    "import scipy.io"
   ]
  },
  {
   "cell_type": "code",
   "execution_count": 16,
   "metadata": {},
   "outputs": [],
   "source": [
    "scipy.io.matlab.savemat(\n",
    "    \"out.mat\",\n",
    "    {\n",
    "        \"X1\": X1,\n",
    "        \"X2\": X2,\n",
    "        \"Y\": Y,\n",
    "        \"X_data\": X,\n",
    "        \"y_data\": y\n",
    "    }\n",
    ")"
   ]
  },
  {
   "cell_type": "code",
   "execution_count": 17,
   "metadata": {},
   "outputs": [],
   "source": [
    "# fig = go.Figure(data=[\n",
    "#     go.Surface(x=X1, y=X2, z=Y, cmin=0, cmax=20),\n",
    "#     #go.Scatter3d(x=X[v, 0], y=X[v, 1], z=y[v])\n",
    "# ])\n",
    "# fig.show()"
   ]
  },
  {
   "cell_type": "code",
   "execution_count": 18,
   "metadata": {},
   "outputs": [],
   "source": [
    "def get_piecewise_model(coef: np.array, errs: np.array):\n",
    "    N = len(errs)\n",
    "    coef_ = coef.tolist()\n",
    "    errs_ = errs.tolist()\n",
    "    \n",
    "    # The index sets\n",
    "    index_set = list(range(N))\n",
    "    index_piece = list(range(len(coef_)))\n",
    "    \n",
    "    model = ConcreteModel()\n",
    "\n",
    "    model.x1 = Var(within=NonNegativeReals, bounds=(0.7, 296.4))\n",
    "    model.x2 = Var(within=NonNegativeReals, bounds=(0, 49.6))\n",
    "        \n",
    "    model.AdsLimit = Constraint(\n",
    "        expr = model.x1 + model.x2 <= 200\n",
    "    )\n",
    "    \n",
    "    model.PolicyConstraint = Constraint(\n",
    "        expr = model.x1 - 0.5 * model.x2 >= 0\n",
    "    )\n",
    "    \n",
    "    model.y_a = Var(index_set, within=NonNegativeReals, bounds=(None, 8))\n",
    "    model.y_b = Var(index_set, within=NonNegativeReals, bounds=(None, 12))\n",
    "    model.t = Var(within=NonNegativeReals)\n",
    "    \n",
    "    def TConstraintRule(model, ip):\n",
    "        return model.t <= coef_[ip][0] + coef_[ip][1] * model.x1 + coef_[ip][2] * model.x2\n",
    "    model.TConstraint = Constraint(\n",
    "        index_piece, rule=TConstraintRule\n",
    "    )\n",
    "    \n",
    "    def CapacityConstraintRule(model, i):\n",
    "        return 3*model.y_a[i] + 2*model.y_b[i] <= 36\n",
    "    \n",
    "    model.CapacityConstraint = Constraint(\n",
    "        index_set, rule=CapacityConstraintRule\n",
    "    )\n",
    "\n",
    "    def SaleConstraintRule(model, i):\n",
    "        return (\n",
    "            model.y_a[i] + model.y_b[i]\n",
    "            <= model.t + errs_[i]\n",
    "        )\n",
    "    \n",
    "    model.SaleConstraint = Constraint(\n",
    "        index_set, rule=SaleConstraintRule\n",
    "    )\n",
    "    \n",
    "    model.obj = Objective(\n",
    "        expr= 0.1*model.x1 + 0.5*model.x2\n",
    "        - (1/N)*sum(3*model.y_a[i] + 5*model.y_b[i]\n",
    "                    for i in index_set)\n",
    "    )\n",
    "\n",
    "    return model"
   ]
  },
  {
   "cell_type": "code",
   "execution_count": 19,
   "metadata": {},
   "outputs": [],
   "source": [
    "coef = np.zeros((len(reg.xi_opt), 3))\n",
    "coef[:, 0] = reg.theta_opt - (reg.xi_opt * X[t]).sum(axis=1)\n",
    "coef[:, [1, 2]] = reg.xi_opt"
   ]
  },
  {
   "cell_type": "code",
   "execution_count": 20,
   "metadata": {},
   "outputs": [],
   "source": [
    "err = y[t] - reg.predict(X[t])"
   ]
  },
  {
   "cell_type": "code",
   "execution_count": 21,
   "metadata": {},
   "outputs": [],
   "source": [
    "opt_model = get_piecewise_model(coef, err)"
   ]
  },
  {
   "cell_type": "code",
   "execution_count": 22,
   "metadata": {},
   "outputs": [
    {
     "data": {
      "text/plain": [
       "{'Problem': [{'Name': 'tmpavarb5xg', 'Lower bound': -43.673131083245465, 'Upper bound': -43.673131083245465, 'Number of objectives': 1, 'Number of constraints': 300, 'Number of variables': 202, 'Number of nonzeros': 797, 'Sense': 'minimize'}], 'Solver': [{'Status': 'ok', 'User time': 0.02, 'Termination condition': 'optimal', 'Termination message': 'Dual simplex - Optimal\\\\x3a Objective = -4.3673131083e+01', 'Error rc': 0, 'Time': 0.03100752830505371}], 'Solution': [OrderedDict([('number of solutions', 0), ('number of solutions displayed', 0)])]}"
      ]
     },
     "execution_count": 22,
     "metadata": {},
     "output_type": "execute_result"
    }
   ],
   "source": [
    "opt = SolverFactory(\"cplex\")\n",
    "opt.solve(opt_model)"
   ]
  },
  {
   "cell_type": "code",
   "execution_count": 23,
   "metadata": {},
   "outputs": [
    {
     "data": {
      "text/plain": [
       "-43.67313108324551"
      ]
     },
     "execution_count": 23,
     "metadata": {},
     "output_type": "execute_result"
    }
   ],
   "source": [
    "opt_model.obj()"
   ]
  },
  {
   "cell_type": "code",
   "execution_count": 24,
   "metadata": {},
   "outputs": [],
   "source": [
    "@np.vectorize\n",
    "def profit_fn(omega):\n",
    "    if omega < 0:\n",
    "        return -np.inf\n",
    "    elif omega <= 12:\n",
    "        return 5.0*omega\n",
    "    elif omega <= 16:\n",
    "        return 60.0+3*(omega-12)\n",
    "    else:\n",
    "        return 72.0"
   ]
  },
  {
   "cell_type": "code",
   "execution_count": 25,
   "metadata": {},
   "outputs": [
    {
     "data": {
      "text/plain": [
       "array([161.40923562,  21.26417374])"
      ]
     },
     "execution_count": 25,
     "metadata": {},
     "output_type": "execute_result"
    }
   ],
   "source": [
    "x_opt = np.array([opt_model.x1(), opt_model.x2()])\n",
    "x_opt"
   ]
  },
  {
   "cell_type": "code",
   "execution_count": 26,
   "metadata": {},
   "outputs": [],
   "source": [
    "omega_opt = float(reg.predict([x_opt]))\n",
    "errs = y[v] - reg.predict(X[v])\n",
    "val = profit_fn(omega_opt + errs) - x_opt @ [0.1, 0.5]"
   ]
  },
  {
   "cell_type": "code",
   "execution_count": 27,
   "metadata": {},
   "outputs": [
    {
     "data": {
      "text/plain": [
       "array([44.0729548 , 44.51734766, 42.97554723, 45.22698957, 42.09367408,\n",
       "       43.97788417, 42.63478622, 42.1139974 , 45.22698957, 45.22698957,\n",
       "       45.04861901, 41.27465314, 43.57981732, 43.33672744, 44.26205904,\n",
       "       42.16300543, 39.89916882, 43.28522864, 45.22698957, 45.22698957,\n",
       "       45.22698957, 45.22698957, 43.82594978, 43.44316246, 44.20635618,\n",
       "       39.70388428, 43.76076345, 44.04745819, 45.22698957, 41.83967954,\n",
       "       45.12072264, 43.68498709, 41.97574386, 44.95497493, 42.80320625,\n",
       "       40.97728489, 43.82220787, 44.00681437, 44.07095393, 43.06463217,\n",
       "       43.74568883, 43.97531556, 44.49436295, 42.15604547, 44.45375223,\n",
       "       44.5497881 , 44.64017339, 45.22698957, 42.7307371 , 41.7000523 ,\n",
       "       45.22698957, 42.68476433, 42.00522765, 42.69529287, 45.22698957,\n",
       "       45.22698957, 45.07560312, 44.12498676, 42.47523201, 41.42097455,\n",
       "       43.04907376, 43.99601119, 41.79880052, 43.84674816, 44.19558927,\n",
       "       45.22698957, 41.78469214, 45.18842696, 45.22698957, 43.52327333,\n",
       "       42.57373142, 43.37617519, 43.57408715, 45.22698957, 44.21036937,\n",
       "       44.89050099, 42.00447652, 42.41666204, 44.39050752, 44.39320438,\n",
       "       41.32414734, 42.68843479, 41.78133951, 42.29225174, 44.20421741,\n",
       "       42.05106624, 44.04310097, 42.88795292, 42.31393889, 43.29316332,\n",
       "       44.07175881, 43.40874981, 45.22698957, 41.08312089, 44.44480158,\n",
       "       44.06268076, 44.26695025, 42.77357014, 45.22698957])"
      ]
     },
     "execution_count": 27,
     "metadata": {},
     "output_type": "execute_result"
    }
   ],
   "source": [
    "val"
   ]
  },
  {
   "cell_type": "code",
   "execution_count": 28,
   "metadata": {},
   "outputs": [
    {
     "data": {
      "text/plain": [
       "(43.56095603462061, 0.13388318700526053)"
      ]
     },
     "execution_count": 28,
     "metadata": {},
     "output_type": "execute_result"
    }
   ],
   "source": [
    "val.mean(), val.std() / np.sqrt(len(val))"
   ]
  },
  {
   "cell_type": "code",
   "execution_count": 34,
   "metadata": {},
   "outputs": [],
   "source": [
    "n = 200\n",
    "x1 = np.random.normal(size=200)\n",
    "x2 = 2 * x1 + 0.1 * np.random.normal(size=200)\n",
    "y = 2 * x1 + x2 + 0.1 * np.random.normal(size=200) + 1"
   ]
  },
  {
   "cell_type": "code",
   "execution_count": 43,
   "metadata": {},
   "outputs": [
    {
     "data": {
      "text/plain": [
       "array([[-0.15873945, -0.32755998],\n",
       "       [ 0.09829638,  0.31775716],\n",
       "       [ 0.86209844,  1.55207692],\n",
       "       [-0.79232163, -1.6464167 ],\n",
       "       [-0.94208308, -1.96928098]])"
      ]
     },
     "execution_count": 43,
     "metadata": {},
     "output_type": "execute_result"
    }
   ],
   "source": [
    "X = np.vstack([x1,x2]).T\n",
    "X[:5]"
   ]
  },
  {
   "cell_type": "code",
   "execution_count": 100,
   "metadata": {},
   "outputs": [
    {
     "data": {
      "text/plain": [
       "[0.0,\n",
       " 1e-07,\n",
       " 2.053525026457146e-07,\n",
       " 4.2169650342858225e-07,\n",
       " 8.659643233600654e-07,\n",
       " 1.778279410038923e-06,\n",
       " 3.651741272548377e-06,\n",
       " 7.498942093324558e-06,\n",
       " 1.539926526059492e-05,\n",
       " 3.1622776601683795e-05,\n",
       " 6.493816315762113e-05,\n",
       " 0.0001333521432163324,\n",
       " 0.0002738419634264361,\n",
       " 0.0005623413251903491,\n",
       " 0.0011547819846894581,\n",
       " 0.0023713737056616554,\n",
       " 0.004869675251658631,\n",
       " 0.01]"
      ]
     },
     "execution_count": 100,
     "metadata": {},
     "output_type": "execute_result"
    }
   ],
   "source": [
    "REG = [0.0] + np.logspace(-7, -2, 17).tolist()\n",
    "REG"
   ]
  },
  {
   "cell_type": "code",
   "execution_count": 101,
   "metadata": {},
   "outputs": [
    {
     "name": "stdout",
     "output_type": "stream",
     "text": [
      "0.0\n",
      "1e-07\n",
      "2.053525026457146e-07\n",
      "4.2169650342858225e-07\n",
      "8.659643233600654e-07\n",
      "1.778279410038923e-06\n",
      "3.651741272548377e-06\n",
      "7.498942093324558e-06\n",
      "1.539926526059492e-05\n",
      "3.1622776601683795e-05\n",
      "6.493816315762113e-05\n",
      "0.0001333521432163324\n",
      "0.0002738419634264361\n",
      "0.0005623413251903491\n",
      "0.0011547819846894581\n",
      "0.0023713737056616554\n",
      "0.004869675251658631\n",
      "0.01\n"
     ]
    }
   ],
   "source": [
    "result = []\n",
    "for r in REG:\n",
    "    kfold = model_selection.KFold(5, shuffle=True, random_state=41239465)\n",
    "    t_mse = []\n",
    "    v_mse = []\n",
    "    for t, v in kfold.split(X, y):\n",
    "        reg = NPCvxReg(convex=True, reg=r).fit(X[t], y[t])\n",
    "\n",
    "        y_t_hat = reg.predict(X[t])\n",
    "        y_v_hat = reg.predict(X[v])\n",
    "\n",
    "        t_mse.append(mse(y[t], y_t_hat))\n",
    "        v_mse.append(mse(y[v], y_v_hat))\n",
    "    result.append(\n",
    "        {\"reg\": r, \"tmse\": np.mean(t_mse), \"vmse\": np.mean(v_mse)}\n",
    "    )\n",
    "    print(r)"
   ]
  },
  {
   "cell_type": "code",
   "execution_count": 106,
   "metadata": {},
   "outputs": [],
   "source": [
    "result = pd.DataFrame(result)"
   ]
  },
  {
   "cell_type": "code",
   "execution_count": 99,
   "metadata": {},
   "outputs": [
    {
     "data": {
      "text/html": [
       "<div>\n",
       "<style scoped>\n",
       "    .dataframe tbody tr th:only-of-type {\n",
       "        vertical-align: middle;\n",
       "    }\n",
       "\n",
       "    .dataframe tbody tr th {\n",
       "        vertical-align: top;\n",
       "    }\n",
       "\n",
       "    .dataframe thead th {\n",
       "        text-align: right;\n",
       "    }\n",
       "</style>\n",
       "<table border=\"1\" class=\"dataframe\">\n",
       "  <thead>\n",
       "    <tr style=\"text-align: right;\">\n",
       "      <th></th>\n",
       "      <th>reg</th>\n",
       "      <th>tmse</th>\n",
       "      <th>vmse</th>\n",
       "    </tr>\n",
       "  </thead>\n",
       "  <tbody>\n",
       "    <tr>\n",
       "      <th>0</th>\n",
       "      <td>0.000000e+00</td>\n",
       "      <td>0.009881</td>\n",
       "      <td>0.125544</td>\n",
       "    </tr>\n",
       "    <tr>\n",
       "      <th>1</th>\n",
       "      <td>1.000000e-07</td>\n",
       "      <td>0.009891</td>\n",
       "      <td>0.085675</td>\n",
       "    </tr>\n",
       "    <tr>\n",
       "      <th>2</th>\n",
       "      <td>3.162278e-07</td>\n",
       "      <td>0.009900</td>\n",
       "      <td>0.085281</td>\n",
       "    </tr>\n",
       "    <tr>\n",
       "      <th>3</th>\n",
       "      <td>1.000000e-06</td>\n",
       "      <td>0.009937</td>\n",
       "      <td>0.085003</td>\n",
       "    </tr>\n",
       "    <tr>\n",
       "      <th>4</th>\n",
       "      <td>3.162278e-06</td>\n",
       "      <td>0.010110</td>\n",
       "      <td>0.084971</td>\n",
       "    </tr>\n",
       "    <tr>\n",
       "      <th>5</th>\n",
       "      <td>1.000000e-05</td>\n",
       "      <td>0.010737</td>\n",
       "      <td>0.086437</td>\n",
       "    </tr>\n",
       "    <tr>\n",
       "      <th>6</th>\n",
       "      <td>3.162278e-05</td>\n",
       "      <td>0.012006</td>\n",
       "      <td>0.089239</td>\n",
       "    </tr>\n",
       "    <tr>\n",
       "      <th>7</th>\n",
       "      <td>1.000000e-04</td>\n",
       "      <td>0.013343</td>\n",
       "      <td>0.092666</td>\n",
       "    </tr>\n",
       "    <tr>\n",
       "      <th>8</th>\n",
       "      <td>3.162278e-04</td>\n",
       "      <td>0.015481</td>\n",
       "      <td>0.103293</td>\n",
       "    </tr>\n",
       "    <tr>\n",
       "      <th>9</th>\n",
       "      <td>1.000000e-03</td>\n",
       "      <td>0.029721</td>\n",
       "      <td>0.137218</td>\n",
       "    </tr>\n",
       "    <tr>\n",
       "      <th>10</th>\n",
       "      <td>3.162278e-03</td>\n",
       "      <td>0.147513</td>\n",
       "      <td>0.299656</td>\n",
       "    </tr>\n",
       "    <tr>\n",
       "      <th>11</th>\n",
       "      <td>1.000000e-02</td>\n",
       "      <td>0.923674</td>\n",
       "      <td>1.175134</td>\n",
       "    </tr>\n",
       "    <tr>\n",
       "      <th>12</th>\n",
       "      <td>3.162278e-02</td>\n",
       "      <td>3.950517</td>\n",
       "      <td>4.370686</td>\n",
       "    </tr>\n",
       "    <tr>\n",
       "      <th>13</th>\n",
       "      <td>1.000000e-01</td>\n",
       "      <td>9.296426</td>\n",
       "      <td>9.797238</td>\n",
       "    </tr>\n",
       "    <tr>\n",
       "      <th>14</th>\n",
       "      <td>3.162278e-01</td>\n",
       "      <td>13.553347</td>\n",
       "      <td>14.003459</td>\n",
       "    </tr>\n",
       "    <tr>\n",
       "      <th>15</th>\n",
       "      <td>1.000000e+00</td>\n",
       "      <td>15.540348</td>\n",
       "      <td>15.940193</td>\n",
       "    </tr>\n",
       "    <tr>\n",
       "      <th>16</th>\n",
       "      <td>3.162278e+00</td>\n",
       "      <td>16.262424</td>\n",
       "      <td>16.640280</td>\n",
       "    </tr>\n",
       "    <tr>\n",
       "      <th>17</th>\n",
       "      <td>1.000000e+01</td>\n",
       "      <td>16.501493</td>\n",
       "      <td>16.871652</td>\n",
       "    </tr>\n",
       "  </tbody>\n",
       "</table>\n",
       "</div>"
      ],
      "text/plain": [
       "             reg       tmse       vmse\n",
       "0   0.000000e+00   0.009881   0.125544\n",
       "1   1.000000e-07   0.009891   0.085675\n",
       "2   3.162278e-07   0.009900   0.085281\n",
       "3   1.000000e-06   0.009937   0.085003\n",
       "4   3.162278e-06   0.010110   0.084971\n",
       "5   1.000000e-05   0.010737   0.086437\n",
       "6   3.162278e-05   0.012006   0.089239\n",
       "7   1.000000e-04   0.013343   0.092666\n",
       "8   3.162278e-04   0.015481   0.103293\n",
       "9   1.000000e-03   0.029721   0.137218\n",
       "10  3.162278e-03   0.147513   0.299656\n",
       "11  1.000000e-02   0.923674   1.175134\n",
       "12  3.162278e-02   3.950517   4.370686\n",
       "13  1.000000e-01   9.296426   9.797238\n",
       "14  3.162278e-01  13.553347  14.003459\n",
       "15  1.000000e+00  15.540348  15.940193\n",
       "16  3.162278e+00  16.262424  16.640280\n",
       "17  1.000000e+01  16.501493  16.871652"
      ]
     },
     "execution_count": 99,
     "metadata": {},
     "output_type": "execute_result"
    }
   ],
   "source": [
    "result"
   ]
  },
  {
   "cell_type": "code",
   "execution_count": null,
   "metadata": {},
   "outputs": [],
   "source": []
  }
 ],
 "metadata": {
  "kernelspec": {
   "display_name": "Python 3",
   "language": "python",
   "name": "python3"
  },
  "language_info": {
   "codemirror_mode": {
    "name": "ipython",
    "version": 3
   },
   "file_extension": ".py",
   "mimetype": "text/x-python",
   "name": "python",
   "nbconvert_exporter": "python",
   "pygments_lexer": "ipython3",
   "version": "3.7.7"
  }
 },
 "nbformat": 4,
 "nbformat_minor": 4
}
